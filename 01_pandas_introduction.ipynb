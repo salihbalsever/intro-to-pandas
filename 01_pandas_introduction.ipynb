{
 "cells": [
  {
   "cell_type": "code",
   "execution_count": 1,
   "id": "720f86e7",
   "metadata": {},
   "outputs": [],
   "source": [
    "# 🐼 Pandas Introduction\n",
    "\n",
    "# Pandas is a powerful Python library used for data analysis and manipulation.  \n",
    "# It provides two primary data structures:\n",
    "# - **Series** – 1D labeled array  \n",
    "# - **DataFrame** – 2D labeled table (like Excel)\n",
    "\n",
    "# This notebook introduces basic pandas concepts and shows how to get started."
   ]
  },
  {
   "cell_type": "code",
   "execution_count": 2,
   "id": "e8a18cc1",
   "metadata": {},
   "outputs": [
    {
     "name": "stdout",
     "output_type": "stream",
     "text": [
      "Pandas version: 2.2.3\n"
     ]
    }
   ],
   "source": [
    "# Install if needed:\n",
    "# !conda install pandas\n",
    "\n",
    "import pandas as pd\n",
    "\n",
    "print(\"Pandas version:\", pd.__version__)"
   ]
  },
  {
   "cell_type": "code",
   "execution_count": 4,
   "id": "bb3b0f1f",
   "metadata": {},
   "outputs": [
    {
     "name": "stdout",
     "output_type": "stream",
     "text": [
      "Series:\n",
      " 0    10\n",
      "1    20\n",
      "2    30\n",
      "3    40\n",
      "Name: Numbers, dtype: int64\n",
      "\n",
      "DataFrame:\n",
      "       Name  Age\n",
      "0    Alice   25\n",
      "1      Bob   30\n",
      "2  Charlie   35\n"
     ]
    }
   ],
   "source": [
    "# Create a Series\n",
    "s = pd.Series([10, 20, 30, 40], name=\"Numbers\")\n",
    "print(\"Series:\\n\", s)\n",
    "\n",
    "# Create a DataFrame\n",
    "df = pd.DataFrame({\n",
    "    \"Name\": [\"Alice\", \"Bob\", \"Charlie\"],\n",
    "    \"Age\": [25, 30, 35]\n",
    "})\n",
    "\n",
    "print(\"\\nDataFrame:\\n\", df)\n",
    "# ✅ Pandas makes it easy to work with structured data.  \n",
    "# ✅ Series acts like a single column, while DataFrame is like a full table.\n",
    "\n",
    "# In the next notebook, we will dive into **Series** in more detail."
   ]
  },
  {
   "cell_type": "code",
   "execution_count": null,
   "id": "a945ebbd",
   "metadata": {},
   "outputs": [],
   "source": []
  }
 ],
 "metadata": {
  "kernelspec": {
   "display_name": "Python (tf_env)",
   "language": "python",
   "name": "tf_env"
  },
  "language_info": {
   "codemirror_mode": {
    "name": "ipython",
    "version": 3
   },
   "file_extension": ".py",
   "mimetype": "text/x-python",
   "name": "python",
   "nbconvert_exporter": "python",
   "pygments_lexer": "ipython3",
   "version": "3.10.18"
  }
 },
 "nbformat": 4,
 "nbformat_minor": 5
}

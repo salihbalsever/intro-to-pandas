{
 "cells": [
  {
   "cell_type": "code",
   "execution_count": 1,
   "id": "2a816ac7",
   "metadata": {},
   "outputs": [],
   "source": [
    "# 📊 Pandas Series Basics\n",
    "\n",
    "# A **Series** is a one-dimensional labeled array in Pandas.  \n",
    "# It can hold data of any type: integers, floats, strings, etc.  \n",
    "# Think of it like a single column in an Excel sheet."
   ]
  },
  {
   "cell_type": "code",
   "execution_count": 2,
   "id": "d1699c24",
   "metadata": {},
   "outputs": [
    {
     "name": "stdout",
     "output_type": "stream",
     "text": [
      "0    10\n",
      "1    20\n",
      "2    30\n",
      "3    40\n",
      "4    50\n",
      "dtype: int64\n"
     ]
    }
   ],
   "source": [
    "import pandas as pd\n",
    "\n",
    "# Create a simple Series from a list\n",
    "s = pd.Series([10, 20, 30, 40, 50])\n",
    "print(s)\n",
    "\n",
    "# By default, Pandas assigns an index starting from 0.\n",
    "# You can access values using index labels."
   ]
  },
  {
   "cell_type": "code",
   "execution_count": 3,
   "id": "d4102590",
   "metadata": {},
   "outputs": [
    {
     "name": "stdout",
     "output_type": "stream",
     "text": [
      "a    100\n",
      "b    200\n",
      "c    300\n",
      "dtype: int64\n"
     ]
    }
   ],
   "source": [
    "# Create a Series with custom index\n",
    "s2 = pd.Series([100, 200, 300], index=[\"a\", \"b\", \"c\"])\n",
    "print(s2)\n",
    "\n",
    "# You can access the `.values` and `.index` of a Series."
   ]
  },
  {
   "cell_type": "code",
   "execution_count": 4,
   "id": "d7b2edbc",
   "metadata": {},
   "outputs": [
    {
     "name": "stdout",
     "output_type": "stream",
     "text": [
      "Values: [100 200 300]\n",
      "Index: Index(['a', 'b', 'c'], dtype='object')\n"
     ]
    }
   ],
   "source": [
    "print(\"Values:\", s2.values)\n",
    "print(\"Index:\", s2.index)\n",
    "\n",
    "# Series supports slicing and label-based selection like dictionaries and lists."
   ]
  },
  {
   "cell_type": "code",
   "execution_count": 5,
   "id": "eeda994f",
   "metadata": {},
   "outputs": [
    {
     "name": "stdout",
     "output_type": "stream",
     "text": [
      "1    20\n",
      "2    30\n",
      "3    40\n",
      "dtype: int64\n",
      "200\n"
     ]
    }
   ],
   "source": [
    "# Positional slicing\n",
    "print(s[1:4])\n",
    "\n",
    "# Label-based access\n",
    "print(s2[\"b\"])\n",
    "\n",
    "# ✅ Pandas Series = 1D labeled array  \n",
    "# ✅ Supports indexing, slicing, and NumPy-like operations  \n",
    "# ✅ Next up: DataFrames — 2D structured tables"
   ]
  },
  {
   "cell_type": "code",
   "execution_count": null,
   "id": "c8897b01",
   "metadata": {},
   "outputs": [],
   "source": []
  }
 ],
 "metadata": {
  "kernelspec": {
   "display_name": "Python (tf_env)",
   "language": "python",
   "name": "tf_env"
  },
  "language_info": {
   "codemirror_mode": {
    "name": "ipython",
    "version": 3
   },
   "file_extension": ".py",
   "mimetype": "text/x-python",
   "name": "python",
   "nbconvert_exporter": "python",
   "pygments_lexer": "ipython3",
   "version": "3.10.18"
  }
 },
 "nbformat": 4,
 "nbformat_minor": 5
}

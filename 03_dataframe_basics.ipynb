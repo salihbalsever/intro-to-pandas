{
 "cells": [
  {
   "cell_type": "code",
   "execution_count": null,
   "id": "ad9dc777",
   "metadata": {},
   "outputs": [],
   "source": [
    "# 🧾 Pandas DataFrame Basics\n",
    "\n",
    "# A **DataFrame** is a two-dimensional labeled data structure in Pandas.  \n",
    "# It’s like a table in SQL, an Excel sheet, or a dictionary of Series objects.\n",
    "\n",
    "# Each column can have a different data type."
   ]
  },
  {
   "cell_type": "code",
   "execution_count": null,
   "id": "b4f036cb",
   "metadata": {},
   "outputs": [
    {
     "name": "stdout",
     "output_type": "stream",
     "text": [
      "      Name  Age      City\n",
      "0    Alice   25  New York\n",
      "1      Bob   30    London\n",
      "2  Charlie   35     Paris\n"
     ]
    }
   ],
   "source": [
    "import pandas as pd\n",
    "\n",
    "# Create a DataFrame from a dictionary\n",
    "data = {\n",
    "    \"Name\": [\"Alice\", \"Bob\", \"Charlie\"],\n",
    "    \"Age\": [25, 30, 35],\n",
    "    \"City\": [\"New York\", \"London\", \"Paris\"]\n",
    "}\n",
    "\n",
    "df = pd.DataFrame(data)\n",
    "print(df)\n",
    "\n",
    "# You can access columns and rows using `.column`, `[]`, `.loc[]`, and `.iloc[]`."
   ]
  },
  {
   "cell_type": "code",
   "execution_count": 3,
   "id": "5a8ffde6",
   "metadata": {},
   "outputs": [
    {
     "name": "stdout",
     "output_type": "stream",
     "text": [
      "0      Alice\n",
      "1        Bob\n",
      "2    Charlie\n",
      "Name: Name, dtype: object\n",
      "0    25\n",
      "1    30\n",
      "2    35\n",
      "Name: Age, dtype: int64\n"
     ]
    }
   ],
   "source": [
    "# Access a column\n",
    "print(df[\"Name\"])\n",
    "print(df.Age)"
   ]
  },
  {
   "cell_type": "code",
   "execution_count": 4,
   "id": "68307ea7",
   "metadata": {},
   "outputs": [
    {
     "name": "stdout",
     "output_type": "stream",
     "text": [
      "Name       Alice\n",
      "Age           25\n",
      "City    New York\n",
      "Name: 0, dtype: object\n",
      "Name       Alice\n",
      "Age           25\n",
      "City    New York\n",
      "Name: 0, dtype: object\n"
     ]
    }
   ],
   "source": [
    "\n",
    "# Access a row by index (position)\n",
    "print(df.iloc[0])\n",
    "\n",
    "# Access a row by label (index)\n",
    "print(df.loc[0])"
   ]
  },
  {
   "cell_type": "code",
   "execution_count": 6,
   "id": "42e19fc5",
   "metadata": {},
   "outputs": [
    {
     "name": "stdout",
     "output_type": "stream",
     "text": [
      "London\n"
     ]
    }
   ],
   "source": [
    "# Single cell access\n",
    "print(df.loc[1, \"City\"])  # Output: London\n",
    "\n",
    "# Useful attributes and methods:\n",
    "# - `df.shape` → (rows, columns)\n",
    "# - `df.info()` → structure & types\n",
    "# - `df.describe()` → summary stats for numeric columns"
   ]
  },
  {
   "cell_type": "code",
   "execution_count": 7,
   "id": "0decc199",
   "metadata": {},
   "outputs": [
    {
     "name": "stdout",
     "output_type": "stream",
     "text": [
      "Shape: (3, 3)\n",
      "\n",
      "Info:\n",
      "<class 'pandas.core.frame.DataFrame'>\n",
      "RangeIndex: 3 entries, 0 to 2\n",
      "Data columns (total 3 columns):\n",
      " #   Column  Non-Null Count  Dtype \n",
      "---  ------  --------------  ----- \n",
      " 0   Name    3 non-null      object\n",
      " 1   Age     3 non-null      int64 \n",
      " 2   City    3 non-null      object\n",
      "dtypes: int64(1), object(2)\n",
      "memory usage: 200.0+ bytes\n",
      "None\n",
      "\n",
      "Description:\n",
      "        Age\n",
      "count   3.0\n",
      "mean   30.0\n",
      "std     5.0\n",
      "min    25.0\n",
      "25%    27.5\n",
      "50%    30.0\n",
      "75%    32.5\n",
      "max    35.0\n"
     ]
    }
   ],
   "source": [
    "\n",
    "print(\"Shape:\", df.shape)\n",
    "print(\"\\nInfo:\")\n",
    "print(df.info())\n",
    "\n",
    "print(\"\\nDescription:\")\n",
    "print(df.describe())\n",
    "\n",
    "# ✅ DataFrame = 2D labeled table  \n",
    "# ✅ You can slice, index, filter, and analyze tabular data  \n",
    "# ✅ Next up: Reading external data like CSV and Excel files"
   ]
  },
  {
   "cell_type": "code",
   "execution_count": null,
   "id": "a89c0870",
   "metadata": {},
   "outputs": [],
   "source": []
  }
 ],
 "metadata": {
  "kernelspec": {
   "display_name": "Python (tf_env)",
   "language": "python",
   "name": "tf_env"
  },
  "language_info": {
   "codemirror_mode": {
    "name": "ipython",
    "version": 3
   },
   "file_extension": ".py",
   "mimetype": "text/x-python",
   "name": "python",
   "nbconvert_exporter": "python",
   "pygments_lexer": "ipython3",
   "version": "3.10.18"
  }
 },
 "nbformat": 4,
 "nbformat_minor": 5
}

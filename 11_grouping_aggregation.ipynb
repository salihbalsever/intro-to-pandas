{
 "cells": [
  {
   "cell_type": "code",
   "execution_count": null,
   "id": "b0c88a42",
   "metadata": {},
   "outputs": [],
   "source": [
    "# 📊 Grouping and Aggregation in Pandas\n",
    "\n",
    "# The `groupby()` function allows you to group rows by one or more columns,  \n",
    "# then apply aggregation functions like `sum()`, `mean()`, `count()`, etc.\n",
    "\n",
    "# This is useful for summary statistics and category-based analysis."
   ]
  },
  {
   "cell_type": "code",
   "execution_count": 1,
   "id": "e0400dd7",
   "metadata": {},
   "outputs": [
    {
     "data": {
      "text/html": [
       "<div>\n",
       "<style scoped>\n",
       "    .dataframe tbody tr th:only-of-type {\n",
       "        vertical-align: middle;\n",
       "    }\n",
       "\n",
       "    .dataframe tbody tr th {\n",
       "        vertical-align: top;\n",
       "    }\n",
       "\n",
       "    .dataframe thead th {\n",
       "        text-align: right;\n",
       "    }\n",
       "</style>\n",
       "<table border=\"1\" class=\"dataframe\">\n",
       "  <thead>\n",
       "    <tr style=\"text-align: right;\">\n",
       "      <th></th>\n",
       "      <th>Department</th>\n",
       "      <th>Employee</th>\n",
       "      <th>Salary</th>\n",
       "      <th>Experience</th>\n",
       "    </tr>\n",
       "  </thead>\n",
       "  <tbody>\n",
       "    <tr>\n",
       "      <th>0</th>\n",
       "      <td>HR</td>\n",
       "      <td>Alice</td>\n",
       "      <td>50000</td>\n",
       "      <td>2</td>\n",
       "    </tr>\n",
       "    <tr>\n",
       "      <th>1</th>\n",
       "      <td>IT</td>\n",
       "      <td>Bob</td>\n",
       "      <td>60000</td>\n",
       "      <td>5</td>\n",
       "    </tr>\n",
       "    <tr>\n",
       "      <th>2</th>\n",
       "      <td>Finance</td>\n",
       "      <td>Charlie</td>\n",
       "      <td>70000</td>\n",
       "      <td>7</td>\n",
       "    </tr>\n",
       "    <tr>\n",
       "      <th>3</th>\n",
       "      <td>IT</td>\n",
       "      <td>David</td>\n",
       "      <td>65000</td>\n",
       "      <td>4</td>\n",
       "    </tr>\n",
       "    <tr>\n",
       "      <th>4</th>\n",
       "      <td>HR</td>\n",
       "      <td>Eva</td>\n",
       "      <td>52000</td>\n",
       "      <td>3</td>\n",
       "    </tr>\n",
       "    <tr>\n",
       "      <th>5</th>\n",
       "      <td>Finance</td>\n",
       "      <td>Frank</td>\n",
       "      <td>72000</td>\n",
       "      <td>8</td>\n",
       "    </tr>\n",
       "  </tbody>\n",
       "</table>\n",
       "</div>"
      ],
      "text/plain": [
       "  Department Employee  Salary  Experience\n",
       "0         HR    Alice   50000           2\n",
       "1         IT      Bob   60000           5\n",
       "2    Finance  Charlie   70000           7\n",
       "3         IT    David   65000           4\n",
       "4         HR      Eva   52000           3\n",
       "5    Finance    Frank   72000           8"
      ]
     },
     "execution_count": 1,
     "metadata": {},
     "output_type": "execute_result"
    }
   ],
   "source": [
    "import pandas as pd\n",
    "\n",
    "data = {\n",
    "    \"Department\": [\"HR\", \"IT\", \"Finance\", \"IT\", \"HR\", \"Finance\"],\n",
    "    \"Employee\": [\"Alice\", \"Bob\", \"Charlie\", \"David\", \"Eva\", \"Frank\"],\n",
    "    \"Salary\": [50000, 60000, 70000, 65000, 52000, 72000],\n",
    "    \"Experience\": [2, 5, 7, 4, 3, 8]\n",
    "}\n",
    "\n",
    "df = pd.DataFrame(data)\n",
    "df"
   ]
  },
  {
   "cell_type": "code",
   "execution_count": 2,
   "id": "48d5073c",
   "metadata": {},
   "outputs": [
    {
     "data": {
      "text/plain": [
       "Department\n",
       "Finance    71000.0\n",
       "HR         51000.0\n",
       "IT         62500.0\n",
       "Name: Salary, dtype: float64"
      ]
     },
     "execution_count": 2,
     "metadata": {},
     "output_type": "execute_result"
    }
   ],
   "source": [
    "## 🧮 Group by One Column\n",
    "\n",
    "# Group by \"Department\" and calculate average salary.\n",
    "\n",
    "df.groupby(\"Department\")[\"Salary\"].mean()"
   ]
  },
  {
   "cell_type": "code",
   "execution_count": 3,
   "id": "1e70f4b1",
   "metadata": {},
   "outputs": [
    {
     "data": {
      "text/html": [
       "<div>\n",
       "<style scoped>\n",
       "    .dataframe tbody tr th:only-of-type {\n",
       "        vertical-align: middle;\n",
       "    }\n",
       "\n",
       "    .dataframe tbody tr th {\n",
       "        vertical-align: top;\n",
       "    }\n",
       "\n",
       "    .dataframe thead tr th {\n",
       "        text-align: left;\n",
       "    }\n",
       "\n",
       "    .dataframe thead tr:last-of-type th {\n",
       "        text-align: right;\n",
       "    }\n",
       "</style>\n",
       "<table border=\"1\" class=\"dataframe\">\n",
       "  <thead>\n",
       "    <tr>\n",
       "      <th></th>\n",
       "      <th colspan=\"3\" halign=\"left\">Salary</th>\n",
       "      <th>Experience</th>\n",
       "    </tr>\n",
       "    <tr>\n",
       "      <th></th>\n",
       "      <th>mean</th>\n",
       "      <th>max</th>\n",
       "      <th>min</th>\n",
       "      <th>sum</th>\n",
       "    </tr>\n",
       "    <tr>\n",
       "      <th>Department</th>\n",
       "      <th></th>\n",
       "      <th></th>\n",
       "      <th></th>\n",
       "      <th></th>\n",
       "    </tr>\n",
       "  </thead>\n",
       "  <tbody>\n",
       "    <tr>\n",
       "      <th>Finance</th>\n",
       "      <td>71000.0</td>\n",
       "      <td>72000</td>\n",
       "      <td>70000</td>\n",
       "      <td>15</td>\n",
       "    </tr>\n",
       "    <tr>\n",
       "      <th>HR</th>\n",
       "      <td>51000.0</td>\n",
       "      <td>52000</td>\n",
       "      <td>50000</td>\n",
       "      <td>5</td>\n",
       "    </tr>\n",
       "    <tr>\n",
       "      <th>IT</th>\n",
       "      <td>62500.0</td>\n",
       "      <td>65000</td>\n",
       "      <td>60000</td>\n",
       "      <td>9</td>\n",
       "    </tr>\n",
       "  </tbody>\n",
       "</table>\n",
       "</div>"
      ],
      "text/plain": [
       "             Salary               Experience\n",
       "               mean    max    min        sum\n",
       "Department                                  \n",
       "Finance     71000.0  72000  70000         15\n",
       "HR          51000.0  52000  50000          5\n",
       "IT          62500.0  65000  60000          9"
      ]
     },
     "execution_count": 3,
     "metadata": {},
     "output_type": "execute_result"
    }
   ],
   "source": [
    "## 🧠 Apply Multiple Aggregation Functions\n",
    "\n",
    "# Use `.agg()` to apply different functions to one or more columns.\n",
    "\n",
    "df.groupby(\"Department\").agg({\n",
    "    \"Salary\": [\"mean\", \"max\", \"min\"],\n",
    "    \"Experience\": \"sum\"\n",
    "})"
   ]
  },
  {
   "cell_type": "code",
   "execution_count": 4,
   "id": "fce3b0e3",
   "metadata": {},
   "outputs": [
    {
     "data": {
      "text/plain": [
       "Department\n",
       "Finance    2\n",
       "HR         2\n",
       "IT         2\n",
       "Name: Employee, dtype: int64"
      ]
     },
     "execution_count": 4,
     "metadata": {},
     "output_type": "execute_result"
    }
   ],
   "source": [
    "## 🔢 Count Employees in Each Department\n",
    "df.groupby(\"Department\").count()[\"Employee\"]"
   ]
  },
  {
   "cell_type": "code",
   "execution_count": 6,
   "id": "e7f377a3",
   "metadata": {},
   "outputs": [
    {
     "data": {
      "text/html": [
       "<div>\n",
       "<style scoped>\n",
       "    .dataframe tbody tr th:only-of-type {\n",
       "        vertical-align: middle;\n",
       "    }\n",
       "\n",
       "    .dataframe tbody tr th {\n",
       "        vertical-align: top;\n",
       "    }\n",
       "\n",
       "    .dataframe thead th {\n",
       "        text-align: right;\n",
       "    }\n",
       "</style>\n",
       "<table border=\"1\" class=\"dataframe\">\n",
       "  <thead>\n",
       "    <tr style=\"text-align: right;\">\n",
       "      <th></th>\n",
       "      <th>Department</th>\n",
       "      <th>Salary</th>\n",
       "      <th>Experience</th>\n",
       "    </tr>\n",
       "  </thead>\n",
       "  <tbody>\n",
       "    <tr>\n",
       "      <th>0</th>\n",
       "      <td>Finance</td>\n",
       "      <td>71000.0</td>\n",
       "      <td>7.5</td>\n",
       "    </tr>\n",
       "    <tr>\n",
       "      <th>1</th>\n",
       "      <td>HR</td>\n",
       "      <td>51000.0</td>\n",
       "      <td>2.5</td>\n",
       "    </tr>\n",
       "    <tr>\n",
       "      <th>2</th>\n",
       "      <td>IT</td>\n",
       "      <td>62500.0</td>\n",
       "      <td>4.5</td>\n",
       "    </tr>\n",
       "  </tbody>\n",
       "</table>\n",
       "</div>"
      ],
      "text/plain": [
       "  Department   Salary  Experience\n",
       "0    Finance  71000.0         7.5\n",
       "1         HR  51000.0         2.5\n",
       "2         IT  62500.0         4.5"
      ]
     },
     "execution_count": 6,
     "metadata": {},
     "output_type": "execute_result"
    }
   ],
   "source": [
    "## 🔁 Reset Index After Grouping\n",
    "\n",
    "# To turn the group labels back into a column, use `.reset_index()`\n",
    "\n",
    "# Exclude non-numeric columns when calculating the mean\n",
    "df_grouped = df.groupby(\"Department\")[[\"Salary\", \"Experience\"]].mean().reset_index()\n",
    "df_grouped\n",
    "\n",
    "# ✅ Use `groupby()` to group data by categories  \n",
    "# ✅ Use `.agg()` for multiple statistics  \n",
    "# ✅ Use `reset_index()` to flatten grouped DataFrames\n",
    "\n"
   ]
  },
  {
   "cell_type": "code",
   "execution_count": null,
   "id": "3a4012b7",
   "metadata": {},
   "outputs": [],
   "source": []
  }
 ],
 "metadata": {
  "kernelspec": {
   "display_name": "Python (tf_env)",
   "language": "python",
   "name": "tf_env"
  },
  "language_info": {
   "codemirror_mode": {
    "name": "ipython",
    "version": 3
   },
   "file_extension": ".py",
   "mimetype": "text/x-python",
   "name": "python",
   "nbconvert_exporter": "python",
   "pygments_lexer": "ipython3",
   "version": "3.10.18"
  }
 },
 "nbformat": 4,
 "nbformat_minor": 5
}

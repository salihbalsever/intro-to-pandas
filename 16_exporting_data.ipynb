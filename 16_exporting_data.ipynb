{
 "cells": [
  {
   "cell_type": "code",
   "execution_count": null,
   "id": "c9953877",
   "metadata": {},
   "outputs": [],
   "source": [
    "# 📤 Exporting Data in Pandas\n",
    "\n",
    "# After cleaning or analyzing your data,  \n",
    "# you can export it to different formats using Pandas.\n",
    "\n",
    "# Common formats:\n",
    "# - CSV (`to_csv`)\n",
    "# - Excel (`to_excel`)\n",
    "# - JSON (`to_json`)"
   ]
  },
  {
   "cell_type": "code",
   "execution_count": 1,
   "id": "684edd13",
   "metadata": {},
   "outputs": [
    {
     "data": {
      "text/html": [
       "<div>\n",
       "<style scoped>\n",
       "    .dataframe tbody tr th:only-of-type {\n",
       "        vertical-align: middle;\n",
       "    }\n",
       "\n",
       "    .dataframe tbody tr th {\n",
       "        vertical-align: top;\n",
       "    }\n",
       "\n",
       "    .dataframe thead th {\n",
       "        text-align: right;\n",
       "    }\n",
       "</style>\n",
       "<table border=\"1\" class=\"dataframe\">\n",
       "  <thead>\n",
       "    <tr style=\"text-align: right;\">\n",
       "      <th></th>\n",
       "      <th>Name</th>\n",
       "      <th>Age</th>\n",
       "      <th>Salary</th>\n",
       "    </tr>\n",
       "  </thead>\n",
       "  <tbody>\n",
       "    <tr>\n",
       "      <th>0</th>\n",
       "      <td>Alice</td>\n",
       "      <td>25</td>\n",
       "      <td>50000</td>\n",
       "    </tr>\n",
       "    <tr>\n",
       "      <th>1</th>\n",
       "      <td>Bob</td>\n",
       "      <td>30</td>\n",
       "      <td>60000</td>\n",
       "    </tr>\n",
       "    <tr>\n",
       "      <th>2</th>\n",
       "      <td>Charlie</td>\n",
       "      <td>35</td>\n",
       "      <td>70000</td>\n",
       "    </tr>\n",
       "  </tbody>\n",
       "</table>\n",
       "</div>"
      ],
      "text/plain": [
       "      Name  Age  Salary\n",
       "0    Alice   25   50000\n",
       "1      Bob   30   60000\n",
       "2  Charlie   35   70000"
      ]
     },
     "execution_count": 1,
     "metadata": {},
     "output_type": "execute_result"
    }
   ],
   "source": [
    "import pandas as pd\n",
    "\n",
    "data = {\n",
    "    \"Name\": [\"Alice\", \"Bob\", \"Charlie\"],\n",
    "    \"Age\": [25, 30, 35],\n",
    "    \"Salary\": [50000, 60000, 70000]\n",
    "}\n",
    "\n",
    "df = pd.DataFrame(data)\n",
    "df"
   ]
  },
  {
   "cell_type": "code",
   "execution_count": 2,
   "id": "bb43b117",
   "metadata": {},
   "outputs": [],
   "source": [
    "## 📄 Export to CSV File\n",
    "\n",
    "df.to_csv(\"employees.csv\", index=False)"
   ]
  },
  {
   "cell_type": "code",
   "execution_count": 3,
   "id": "987bad63",
   "metadata": {},
   "outputs": [],
   "source": [
    "## 📊 Export to Excel File\n",
    "\n",
    "df.to_excel(\"employees.xlsx\", index=False)\n"
   ]
  },
  {
   "cell_type": "code",
   "execution_count": 4,
   "id": "792f2c0e",
   "metadata": {},
   "outputs": [],
   "source": [
    "## 🧾 Export to JSON File\n",
    "\n",
    "df.to_json(\"employees.json\", orient=\"records\", indent=2)"
   ]
  },
  {
   "cell_type": "code",
   "execution_count": 5,
   "id": "7688be7a",
   "metadata": {},
   "outputs": [],
   "source": [
    "## 📋 Export to Clipboard (for copy-paste into Excel or email)\n",
    "\n",
    "df.to_clipboard(index=False)"
   ]
  },
  {
   "cell_type": "code",
   "execution_count": null,
   "id": "1f62441e",
   "metadata": {},
   "outputs": [],
   "source": [
    "# ✅ Use `to_csv()` for plain text exports  \n",
    "# ✅ Use `to_excel()` for spreadsheets  \n",
    "# ✅ Use `to_json()` for web-compatible formats  \n",
    "# ✅ Use `to_clipboard()` for quick sharing\n",
    "\n"
   ]
  }
 ],
 "metadata": {
  "kernelspec": {
   "display_name": "Python (tf_env)",
   "language": "python",
   "name": "tf_env"
  },
  "language_info": {
   "codemirror_mode": {
    "name": "ipython",
    "version": 3
   },
   "file_extension": ".py",
   "mimetype": "text/x-python",
   "name": "python",
   "nbconvert_exporter": "python",
   "pygments_lexer": "ipython3",
   "version": "3.10.18"
  }
 },
 "nbformat": 4,
 "nbformat_minor": 5
}
